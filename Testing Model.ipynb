{
 "cells": [
  {
   "cell_type": "code",
   "execution_count": 26,
   "metadata": {
    "executionInfo": {
     "elapsed": 3582,
     "status": "ok",
     "timestamp": 1657556833082,
     "user": {
      "displayName": "Hari Ranjan Meena me18b108",
      "userId": "00972386903866042674"
     },
     "user_tz": -330
    },
    "id": "pkjp2b5nECM9"
   },
   "outputs": [],
   "source": [
    "from keras.models import load_model\n",
    "import cv2\n",
    "import numpy as np\n",
    "from keras.preprocessing import image\n",
    "import datetime"
   ]
  },
  {
   "cell_type": "code",
   "execution_count": 28,
   "metadata": {
    "executionInfo": {
     "elapsed": 7170,
     "status": "ok",
     "timestamp": 1657556843835,
     "user": {
      "displayName": "Hari Ranjan Meena me18b108",
      "userId": "00972386903866042674"
     },
     "user_tz": -330
    },
    "id": "PVvGTh6GEL77"
   },
   "outputs": [],
   "source": [
    "model = load_model('models/base_model.h5')"
   ]
  },
  {
   "cell_type": "code",
   "execution_count": 30,
   "metadata": {},
   "outputs": [
    {
     "data": {
      "text/plain": [
       "0.0"
      ]
     },
     "execution_count": 30,
     "metadata": {},
     "output_type": "execute_result"
    }
   ],
   "source": [
    "test_image=image.load_img(r'dataset/train/without_mask/0.jpg',\n",
    "                          target_size=(224,224,3))\n",
    "test_image\n",
    "test_image=image.img_to_array(test_image)\n",
    "test_image=np.expand_dims(test_image,axis=0)\n",
    "model.predict(test_image)[0][0]"
   ]
  },
  {
   "cell_type": "code",
   "execution_count": 31,
   "metadata": {
    "executionInfo": {
     "elapsed": 926,
     "status": "ok",
     "timestamp": 1657556964464,
     "user": {
      "displayName": "Hari Ranjan Meena me18b108",
      "userId": "00972386903866042674"
     },
     "user_tz": -330
    },
    "id": "WEgexR7sFXsF"
   },
   "outputs": [],
   "source": [
    "cap=cv2.VideoCapture(0)\n",
    "face_cascade=cv2.CascadeClassifier('haarcascade_frontalface_default.xml')"
   ]
  },
  {
   "cell_type": "code",
   "execution_count": 32,
   "metadata": {
    "colab": {
     "base_uri": "https://localhost:8080/",
     "height": 235
    },
    "executionInfo": {
     "elapsed": 1740,
     "status": "error",
     "timestamp": 1657557233056,
     "user": {
      "displayName": "Hari Ranjan Meena me18b108",
      "userId": "00972386903866042674"
     },
     "user_tz": -330
    },
    "id": "XVdRqDRwFZk-",
    "outputId": "6435080f-8626-41bc-96c6-4e8f6928a5d0"
   },
   "outputs": [],
   "source": [
    "while cap.isOpened():\n",
    "    _,img=cap.read()\n",
    "    face=face_cascade.detectMultiScale(img,scaleFactor=1.1,minNeighbors=4)\n",
    "    for(x,y,w,h) in face:\n",
    "        face_img = img[y:y+h, x:x+w]\n",
    "        cv2.imwrite('temp.jpg',face_img)\n",
    "        test_image=image.load_img('temp.jpg',target_size=(224,224,3))\n",
    "        test_image=image.img_to_array(test_image)\n",
    "        test_image=np.expand_dims(test_image,axis=0)\n",
    "        pred=model.predict(test_image)[0][0]\n",
    "        if pred==1:\n",
    "            cv2.rectangle(img,(x,y),(x+w,y+h),(0,0,255),3)\n",
    "            cv2.putText(img,'NO MASK',((x+w)//2,y+h+20),cv2.FONT_HERSHEY_SIMPLEX,1,(0,0,255),3)\n",
    "        else:\n",
    "            cv2.rectangle(img,(x,y),(x+w,y+h),(0,255,0),3)\n",
    "            cv2.putText(img,'MASK',((x+w)//2,y+h+20),cv2.FONT_HERSHEY_SIMPLEX,1,(0,255,0),3)\n",
    "        datet=str(datetime.datetime.now())\n",
    "        cv2.putText(img,datet,(400,450),cv2.FONT_HERSHEY_SIMPLEX,0.5,(255,255,255),1)\n",
    "          \n",
    "    cv2.imshow('img',img)\n",
    "    \n",
    "    if cv2.waitKey(1)==ord('q'):\n",
    "        break\n",
    "    \n",
    "cap.release()\n",
    "cv2.destroyAllWindows()"
   ]
  },
  {
   "cell_type": "code",
   "execution_count": null,
   "metadata": {
    "id": "fnW2qiD8FZhh"
   },
   "outputs": [],
   "source": []
  },
  {
   "cell_type": "code",
   "execution_count": null,
   "metadata": {
    "id": "--mS1utBFZev"
   },
   "outputs": [],
   "source": []
  },
  {
   "cell_type": "code",
   "execution_count": null,
   "metadata": {
    "id": "nCiJ0ZcjFZb3"
   },
   "outputs": [],
   "source": []
  },
  {
   "cell_type": "code",
   "execution_count": null,
   "metadata": {
    "id": "_hts7rdKFZZU"
   },
   "outputs": [],
   "source": []
  },
  {
   "cell_type": "code",
   "execution_count": null,
   "metadata": {
    "id": "79CiEeomFZWN"
   },
   "outputs": [],
   "source": []
  },
  {
   "cell_type": "code",
   "execution_count": null,
   "metadata": {
    "id": "kZtttt1kFZTf"
   },
   "outputs": [],
   "source": []
  },
  {
   "cell_type": "code",
   "execution_count": null,
   "metadata": {
    "id": "u3pMOgHHFZQy"
   },
   "outputs": [],
   "source": []
  },
  {
   "cell_type": "code",
   "execution_count": null,
   "metadata": {
    "id": "gxgfGpCzFZOT"
   },
   "outputs": [],
   "source": []
  },
  {
   "cell_type": "code",
   "execution_count": null,
   "metadata": {
    "id": "ODjUl3UgFZLt"
   },
   "outputs": [],
   "source": []
  },
  {
   "cell_type": "code",
   "execution_count": null,
   "metadata": {
    "id": "oMkHOtINFZI1"
   },
   "outputs": [],
   "source": []
  },
  {
   "cell_type": "code",
   "execution_count": null,
   "metadata": {
    "id": "ju4jvzEaFYo9"
   },
   "outputs": [],
   "source": []
  }
 ],
 "metadata": {
  "accelerator": "GPU",
  "colab": {
   "authorship_tag": "ABX9TyOwAK/XJqgoyiiff39C3dXe",
   "collapsed_sections": [],
   "mount_file_id": "1Vx1bgeieAZ1YUBkwoSq8cjOi_Q-lLrNP",
   "name": "Untitled0.ipynb",
   "provenance": []
  },
  "gpuClass": "standard",
  "kernelspec": {
   "display_name": "Python 3",
   "language": "python",
   "name": "python3"
  },
  "language_info": {
   "codemirror_mode": {
    "name": "ipython",
    "version": 3
   },
   "file_extension": ".py",
   "mimetype": "text/x-python",
   "name": "python",
   "nbconvert_exporter": "python",
   "pygments_lexer": "ipython3",
   "version": "3.8.8"
  }
 },
 "nbformat": 4,
 "nbformat_minor": 1
}
