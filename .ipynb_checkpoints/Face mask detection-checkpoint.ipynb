{
 "cells": [
  {
   "cell_type": "markdown",
   "metadata": {
    "id": "lnnalh4mgnaC"
   },
   "source": [
    "# Base model"
   ]
  },
  {
   "cell_type": "code",
   "execution_count": 16,
   "metadata": {
    "executionInfo": {
     "elapsed": 399,
     "status": "ok",
     "timestamp": 1657520741925,
     "user": {
      "displayName": "Hari Ranjan Meena me18b108",
      "userId": "00972386903866042674"
     },
     "user_tz": -330
    },
    "id": "67QR9FlEfkGN"
   },
   "outputs": [],
   "source": [
    "import numpy as np\n",
    "import tensorflow as tf\n",
    "import keras\n",
    "import keras.backend as k\n",
    "from tensorflow.keras.layers import Conv2D,MaxPooling2D,SpatialDropout2D,Flatten,Dropout,Dense\n",
    "from tensorflow.keras import Sequential\n",
    "from tensorflow.keras.models import load_model \n",
    "from tensorflow.keras.optimizers import Adam\n",
    "from tensorflow import image\n",
    "import cv2\n",
    "import datetime"
   ]
  },
  {
   "cell_type": "code",
   "execution_count": 2,
   "metadata": {
    "executionInfo": {
     "elapsed": 4165,
     "status": "ok",
     "timestamp": 1657518951807,
     "user": {
      "displayName": "Hari Ranjan Meena me18b108",
      "userId": "00972386903866042674"
     },
     "user_tz": -330
    },
    "id": "Thg97D-OgOWG"
   },
   "outputs": [],
   "source": [
    "model=Sequential()\n",
    "model.add(Conv2D(32,(3,3),activation='relu',input_shape=(224,224,3)))\n",
    "model.add(MaxPooling2D() )\n",
    "model.add(Conv2D(32,(3,3),activation='relu'))\n",
    "model.add(MaxPooling2D() )\n",
    "model.add(Conv2D(32,(3,3),activation='relu'))\n",
    "model.add(MaxPooling2D() )\n",
    "model.add(Flatten())\n",
    "model.add(Dense(100,activation='relu'))\n",
    "model.add(Dense(1,activation='sigmoid'))"
   ]
  },
  {
   "cell_type": "code",
   "execution_count": 3,
   "metadata": {
    "executionInfo": {
     "elapsed": 561,
     "status": "ok",
     "timestamp": 1657518952365,
     "user": {
      "displayName": "Hari Ranjan Meena me18b108",
      "userId": "00972386903866042674"
     },
     "user_tz": -330
    },
    "id": "EZDvdvXhgOTN"
   },
   "outputs": [],
   "source": [
    "model.compile(optimizer='adam',loss='binary_crossentropy',metrics=['accuracy'])"
   ]
  },
  {
   "cell_type": "code",
   "execution_count": 4,
   "metadata": {
    "colab": {
     "base_uri": "https://localhost:8080/"
    },
    "executionInfo": {
     "elapsed": 12192,
     "status": "ok",
     "timestamp": 1657518964549,
     "user": {
      "displayName": "Hari Ranjan Meena me18b108",
      "userId": "00972386903866042674"
     },
     "user_tz": -330
    },
    "id": "jbV2Q_ASgOQi",
    "outputId": "9d5f72e9-4a8b-427f-b75c-247927b1fa16"
   },
   "outputs": [
    {
     "name": "stdout",
     "output_type": "stream",
     "text": [
      "Found 3274 images belonging to 2 classes.\n",
      "Found 818 images belonging to 2 classes.\n"
     ]
    }
   ],
   "source": [
    "from keras.preprocessing.image import ImageDataGenerator\n",
    "train_datagen = ImageDataGenerator(\n",
    "        rescale=1./255,\n",
    "        shear_range=0.2,\n",
    "        zoom_range=0.2,\n",
    "        horizontal_flip=True)\n",
    "\n",
    "test_datagen = ImageDataGenerator(rescale=1./255)\n",
    "\n",
    "training_set = train_datagen.flow_from_directory(\n",
    "        '/content/drive/MyDrive/Colab Notebooks/Mask detection/dataset/train',\n",
    "        target_size=(224,224),\n",
    "        batch_size=32 ,\n",
    "        class_mode='binary')\n",
    "\n",
    "test_set = test_datagen.flow_from_directory(\n",
    "        '/content/drive/MyDrive/Colab Notebooks/Mask detection/dataset/val',\n",
    "        target_size=(224,224),\n",
    "        batch_size=32,\n",
    "        class_mode='binary')"
   ]
  },
  {
   "cell_type": "code",
   "execution_count": null,
   "metadata": {
    "colab": {
     "base_uri": "https://localhost:8080/"
    },
    "executionInfo": {
     "elapsed": 569688,
     "status": "ok",
     "timestamp": 1657435394519,
     "user": {
      "displayName": "Hari Ranjan Meena me18b108",
      "userId": "00972386903866042674"
     },
     "user_tz": -330
    },
    "id": "9tadQtu6gONh",
    "outputId": "5c087a56-6c91-4e7f-a88e-015a63ec2cfb"
   },
   "outputs": [
    {
     "name": "stdout",
     "output_type": "stream",
     "text": [
      "Epoch 1/10\n"
     ]
    },
    {
     "name": "stderr",
     "output_type": "stream",
     "text": [
      "/usr/local/lib/python3.7/dist-packages/PIL/Image.py:960: UserWarning: Palette images with Transparency expressed in bytes should be converted to RGBA images\n",
      "  \"Palette images with Transparency expressed in bytes should be \"\n"
     ]
    },
    {
     "name": "stdout",
     "output_type": "stream",
     "text": [
      "\n",
      "Epoch 1: val_loss improved from inf to 0.12934, saving model to /content/drive/MyDrive/Colab Notebooks/Mask detection/models/base_model.h5\n",
      "103/103 - 54s - loss: 0.0847 - accuracy: 0.9667 - val_loss: 0.1293 - val_accuracy: 0.9584 - 54s/epoch - 523ms/step\n",
      "Epoch 2/10\n",
      "\n",
      "Epoch 2: val_loss improved from 0.12934 to 0.09187, saving model to /content/drive/MyDrive/Colab Notebooks/Mask detection/models/base_model.h5\n",
      "103/103 - 55s - loss: 0.1002 - accuracy: 0.9618 - val_loss: 0.0919 - val_accuracy: 0.9597 - 55s/epoch - 538ms/step\n",
      "Epoch 3/10\n",
      "\n",
      "Epoch 3: val_loss did not improve from 0.09187\n",
      "103/103 - 55s - loss: 0.0779 - accuracy: 0.9725 - val_loss: 0.1085 - val_accuracy: 0.9548 - 55s/epoch - 534ms/step\n",
      "Epoch 4/10\n",
      "\n",
      "Epoch 4: val_loss did not improve from 0.09187\n",
      "103/103 - 53s - loss: 0.0713 - accuracy: 0.9734 - val_loss: 0.1101 - val_accuracy: 0.9658 - 53s/epoch - 518ms/step\n",
      "Epoch 5/10\n",
      "\n",
      "Epoch 5: val_loss did not improve from 0.09187\n",
      "103/103 - 54s - loss: 0.0763 - accuracy: 0.9713 - val_loss: 0.0986 - val_accuracy: 0.9633 - 54s/epoch - 527ms/step\n",
      "Epoch 6/10\n",
      "\n",
      "Epoch 6: val_loss did not improve from 0.09187\n",
      "103/103 - 53s - loss: 0.0751 - accuracy: 0.9716 - val_loss: 0.1324 - val_accuracy: 0.9548 - 53s/epoch - 518ms/step\n",
      "Epoch 7/10\n",
      "\n",
      "Epoch 7: val_loss did not improve from 0.09187\n",
      "103/103 - 53s - loss: 0.0729 - accuracy: 0.9771 - val_loss: 0.1172 - val_accuracy: 0.9597 - 53s/epoch - 516ms/step\n",
      "Epoch 8/10\n",
      "\n",
      "Epoch 8: val_loss did not improve from 0.09187\n",
      "103/103 - 55s - loss: 0.0541 - accuracy: 0.9798 - val_loss: 0.1053 - val_accuracy: 0.9670 - 55s/epoch - 531ms/step\n",
      "Epoch 9/10\n",
      "\n",
      "Epoch 9: val_loss did not improve from 0.09187\n",
      "103/103 - 53s - loss: 0.0574 - accuracy: 0.9780 - val_loss: 0.1281 - val_accuracy: 0.9535 - 53s/epoch - 518ms/step\n",
      "Epoch 10/10\n",
      "\n",
      "Epoch 10: val_loss did not improve from 0.09187\n",
      "103/103 - 53s - loss: 0.0560 - accuracy: 0.9783 - val_loss: 0.1530 - val_accuracy: 0.9548 - 53s/epoch - 518ms/step\n"
     ]
    }
   ],
   "source": [
    "from keras.callbacks import ModelCheckpoint\n",
    "checkpoint = ModelCheckpoint(filepath='/content/drive/MyDrive/Colab Notebooks/Mask detection/models/base_model.h5', \n",
    "                               verbose=2, save_best_only=True)\n",
    "callbacks = [checkpoint]\n",
    "\n",
    "model_saved=model.fit(\n",
    "    training_set,\n",
    "    epochs=10,\n",
    "    validation_data=test_set,\n",
    "    verbose = 2,\n",
    "    callbacks=callbacks\n",
    "    )"
   ]
  },
  {
   "cell_type": "markdown",
   "metadata": {
    "id": "FYSgPEyq2X62"
   },
   "source": [
    "# mobilenet_v2"
   ]
  },
  {
   "cell_type": "code",
   "execution_count": 19,
   "metadata": {
    "executionInfo": {
     "elapsed": 544,
     "status": "ok",
     "timestamp": 1657520978974,
     "user": {
      "displayName": "Hari Ranjan Meena me18b108",
      "userId": "00972386903866042674"
     },
     "user_tz": -330
    },
    "id": "Xa0te4wm0rjk"
   },
   "outputs": [],
   "source": [
    "# import the necessary packages\n",
    "from tensorflow.keras.preprocessing.image import ImageDataGenerator\n",
    "from tensorflow.keras.applications import MobileNetV2\n",
    "from tensorflow.keras.layers import AveragePooling2D\n",
    "from tensorflow.keras.layers import Dropout\n",
    "from tensorflow.keras.layers import Flatten\n",
    "from tensorflow.keras.layers import Dense\n",
    "from tensorflow.keras.layers import Input\n",
    "from tensorflow.keras.models import Model\n",
    "from tensorflow.keras.optimizers import Adam\n",
    "from tensorflow.keras.applications.mobilenet_v2 import preprocess_input\n",
    "from tensorflow.keras.preprocessing.image import img_to_array\n",
    "from tensorflow.keras.preprocessing.image import load_img\n",
    "from tensorflow.keras.utils import to_categorical\n",
    "from sklearn.preprocessing import LabelBinarizer\n",
    "from sklearn.model_selection import train_test_split\n",
    "from sklearn.metrics import classification_report\n",
    "from imutils import paths\n",
    "import matplotlib.pyplot as plt\n",
    "import numpy as np\n",
    "import os"
   ]
  },
  {
   "cell_type": "code",
   "execution_count": 30,
   "metadata": {
    "executionInfo": {
     "elapsed": 378,
     "status": "ok",
     "timestamp": 1657521142528,
     "user": {
      "displayName": "Hari Ranjan Meena me18b108",
      "userId": "00972386903866042674"
     },
     "user_tz": -330
    },
    "id": "yh32qNXT8hbw"
   },
   "outputs": [],
   "source": [
    "# initialize the initial learning rate, number of epochs to train for,\n",
    "# and batch size\n",
    "INIT_LR = 1e-4\n",
    "EPOCHS = 10\n",
    "BS = 32"
   ]
  },
  {
   "cell_type": "code",
   "execution_count": 21,
   "metadata": {
    "executionInfo": {
     "elapsed": 2,
     "status": "ok",
     "timestamp": 1657520982878,
     "user": {
      "displayName": "Hari Ranjan Meena me18b108",
      "userId": "00972386903866042674"
     },
     "user_tz": -330
    },
    "id": "9NDx8GFm8hZX"
   },
   "outputs": [],
   "source": [
    "DIRECTORY = r\"/content/drive/MyDrive/Colab Notebooks/Mask detection/dataset\"\n",
    "CATEGORIES = [\"with_mask\", \"without_mask\"]"
   ]
  },
  {
   "cell_type": "code",
   "execution_count": 22,
   "metadata": {
    "colab": {
     "base_uri": "https://localhost:8080/"
    },
    "executionInfo": {
     "elapsed": 79137,
     "status": "ok",
     "timestamp": 1657521085043,
     "user": {
      "displayName": "Hari Ranjan Meena me18b108",
      "userId": "00972386903866042674"
     },
     "user_tz": -330
    },
    "id": "3g-n3BiJ8hXG",
    "outputId": "157b6fdb-dbc3-48b7-a47b-9d42046e2008"
   },
   "outputs": [
    {
     "name": "stdout",
     "output_type": "stream",
     "text": [
      "[INFO] loading images...\n"
     ]
    },
    {
     "name": "stderr",
     "output_type": "stream",
     "text": [
      "/usr/local/lib/python3.7/dist-packages/PIL/Image.py:960: UserWarning: Palette images with Transparency expressed in bytes should be converted to RGBA images\n",
      "  \"Palette images with Transparency expressed in bytes should be \"\n"
     ]
    }
   ],
   "source": [
    "print(\"[INFO] loading images...\")\n",
    "\n",
    "data = []\n",
    "labels = []\n",
    "\n",
    "for category in CATEGORIES:\n",
    "    path = os.path.join(DIRECTORY, category)\n",
    "    for img in os.listdir(path):\n",
    "        img_path = os.path.join(path, img)\n",
    "        image = load_img(img_path, target_size=(224, 224))\n",
    "        image = img_to_array(image)\n",
    "        image = preprocess_input(image)\n",
    "\n",
    "        data.append(image)\n",
    "        labels.append(category)\n",
    "\n",
    "# perform one-hot encoding on the labels\n",
    "lb = LabelBinarizer()\n",
    "labels = lb.fit_transform(labels)\n",
    "labels = to_categorical(labels)\n",
    "\n",
    "data = np.array(data, dtype=\"float32\")\n",
    "labels = np.array(labels)\n",
    "\n",
    "(trainX, testX, trainY, testY) = train_test_split(data, labels,\n",
    "                                                  test_size=0.20, stratify=labels, random_state=42)"
   ]
  },
  {
   "cell_type": "code",
   "execution_count": 23,
   "metadata": {
    "executionInfo": {
     "elapsed": 574,
     "status": "ok",
     "timestamp": 1657521108661,
     "user": {
      "displayName": "Hari Ranjan Meena me18b108",
      "userId": "00972386903866042674"
     },
     "user_tz": -330
    },
    "id": "5yo6YJl38hUn"
   },
   "outputs": [],
   "source": [
    "aug = ImageDataGenerator(\n",
    "    rotation_range=20,\n",
    "    zoom_range=0.15,\n",
    "    width_shift_range=0.2,\n",
    "    height_shift_range=0.2,\n",
    "    shear_range=0.15,\n",
    "    horizontal_flip=True,\n",
    "    fill_mode=\"nearest\")"
   ]
  },
  {
   "cell_type": "code",
   "execution_count": 24,
   "metadata": {
    "colab": {
     "base_uri": "https://localhost:8080/"
    },
    "executionInfo": {
     "elapsed": 1468,
     "status": "ok",
     "timestamp": 1657521111440,
     "user": {
      "displayName": "Hari Ranjan Meena me18b108",
      "userId": "00972386903866042674"
     },
     "user_tz": -330
    },
    "id": "AIbOLGwt8hR1",
    "outputId": "75491377-1376-46fd-ba3d-054a5303f46a"
   },
   "outputs": [
    {
     "name": "stdout",
     "output_type": "stream",
     "text": [
      "WARNING:tensorflow:`input_shape` is undefined or non-square, or `rows` is not in [96, 128, 160, 192, 224]. Weights for input shape (224, 224) will be loaded as the default.\n"
     ]
    }
   ],
   "source": [
    "# load the MobileNetV2 network, ensuring the head FC layer sets are\n",
    "# left off\n",
    "baseModel = MobileNetV2(weights=\"imagenet\", include_top=False,\n",
    "    input_tensor=Input(shape=(224, 224, 3)))"
   ]
  },
  {
   "cell_type": "code",
   "execution_count": 25,
   "metadata": {
    "executionInfo": {
     "elapsed": 3,
     "status": "ok",
     "timestamp": 1657521111441,
     "user": {
      "displayName": "Hari Ranjan Meena me18b108",
      "userId": "00972386903866042674"
     },
     "user_tz": -330
    },
    "id": "xuaRW1YO8hPN"
   },
   "outputs": [],
   "source": [
    "# construct the head of the model that will be placed on top of the\n",
    "# the base model\n",
    "headModel = baseModel.output\n",
    "headModel = AveragePooling2D(pool_size=(7, 7))(headModel)\n",
    "headModel = Flatten(name=\"flatten\")(headModel)\n",
    "headModel = Dense(128, activation=\"relu\")(headModel)\n",
    "headModel = Dropout(0.5)(headModel)\n",
    "headModel = Dense(2, activation=\"softmax\")(headModel)"
   ]
  },
  {
   "cell_type": "code",
   "execution_count": 26,
   "metadata": {
    "executionInfo": {
     "elapsed": 603,
     "status": "ok",
     "timestamp": 1657521114915,
     "user": {
      "displayName": "Hari Ranjan Meena me18b108",
      "userId": "00972386903866042674"
     },
     "user_tz": -330
    },
    "id": "moXLFBG88hMd"
   },
   "outputs": [],
   "source": [
    "# place the head FC model on top of the base model (this will become\n",
    "# the actual model we will train)\n",
    "model = Model(inputs=baseModel.input, outputs=headModel)"
   ]
  },
  {
   "cell_type": "code",
   "execution_count": 27,
   "metadata": {
    "executionInfo": {
     "elapsed": 2,
     "status": "ok",
     "timestamp": 1657521116573,
     "user": {
      "displayName": "Hari Ranjan Meena me18b108",
      "userId": "00972386903866042674"
     },
     "user_tz": -330
    },
    "id": "N_zGHeMm8grz"
   },
   "outputs": [],
   "source": [
    "# loop over all layers in the base model and freeze them so they will\n",
    "# *not* be updated during the first training process\n",
    "for layer in baseModel.layers:\n",
    "    layer.trainable = False"
   ]
  },
  {
   "cell_type": "code",
   "execution_count": 29,
   "metadata": {
    "colab": {
     "base_uri": "https://localhost:8080/"
    },
    "executionInfo": {
     "elapsed": 3,
     "status": "ok",
     "timestamp": 1657521130086,
     "user": {
      "displayName": "Hari Ranjan Meena me18b108",
      "userId": "00972386903866042674"
     },
     "user_tz": -330
    },
    "id": "0ZHcnJ764ANQ",
    "outputId": "f18351b6-c4e8-4e2e-da84-7be10050ea7e"
   },
   "outputs": [
    {
     "name": "stdout",
     "output_type": "stream",
     "text": [
      "[INFO] compiling model...\n"
     ]
    }
   ],
   "source": [
    "# compile our model\n",
    "print(\"[INFO] compiling model...\")\n",
    "opt = Adam(learning_rate=INIT_LR, decay=INIT_LR / EPOCHS)\n",
    "model.compile(loss=\"binary_crossentropy\", optimizer=opt,\n",
    "              metrics=[\"accuracy\"])"
   ]
  },
  {
   "cell_type": "code",
   "execution_count": 32,
   "metadata": {
    "colab": {
     "base_uri": "https://localhost:8080/"
    },
    "executionInfo": {
     "elapsed": 414572,
     "status": "ok",
     "timestamp": 1657521609560,
     "user": {
      "displayName": "Hari Ranjan Meena me18b108",
      "userId": "00972386903866042674"
     },
     "user_tz": -330
    },
    "id": "eVzoZ-2a4AKg",
    "outputId": "11ddf0fa-3d89-427b-9910-9be5347e651c"
   },
   "outputs": [
    {
     "name": "stdout",
     "output_type": "stream",
     "text": [
      "[INFO] training head...\n",
      "Epoch 1/10\n",
      "102/102 - 47s - loss: 0.2844 - accuracy: 0.9239 - val_loss: 0.1407 - val_accuracy: 0.9707 - 47s/epoch - 463ms/step\n",
      "Epoch 2/10\n",
      "102/102 - 35s - loss: 0.1348 - accuracy: 0.9652 - val_loss: 0.1021 - val_accuracy: 0.9719 - 35s/epoch - 344ms/step\n",
      "Epoch 3/10\n",
      "102/102 - 35s - loss: 0.0979 - accuracy: 0.9750 - val_loss: 0.0792 - val_accuracy: 0.9719 - 35s/epoch - 344ms/step\n",
      "Epoch 4/10\n",
      "102/102 - 44s - loss: 0.0771 - accuracy: 0.9763 - val_loss: 0.0746 - val_accuracy: 0.9719 - 44s/epoch - 432ms/step\n",
      "Epoch 5/10\n",
      "102/102 - 35s - loss: 0.0695 - accuracy: 0.9809 - val_loss: 0.0719 - val_accuracy: 0.9731 - 35s/epoch - 347ms/step\n",
      "Epoch 6/10\n",
      "102/102 - 36s - loss: 0.0658 - accuracy: 0.9827 - val_loss: 0.0597 - val_accuracy: 0.9805 - 36s/epoch - 351ms/step\n",
      "Epoch 7/10\n",
      "102/102 - 35s - loss: 0.0627 - accuracy: 0.9812 - val_loss: 0.0676 - val_accuracy: 0.9731 - 35s/epoch - 344ms/step\n",
      "Epoch 8/10\n",
      "102/102 - 37s - loss: 0.0482 - accuracy: 0.9861 - val_loss: 0.0673 - val_accuracy: 0.9731 - 37s/epoch - 360ms/step\n",
      "Epoch 9/10\n",
      "102/102 - 38s - loss: 0.0463 - accuracy: 0.9852 - val_loss: 0.0684 - val_accuracy: 0.9744 - 38s/epoch - 373ms/step\n",
      "Epoch 10/10\n",
      "102/102 - 37s - loss: 0.0489 - accuracy: 0.9840 - val_loss: 0.0619 - val_accuracy: 0.9756 - 37s/epoch - 361ms/step\n"
     ]
    }
   ],
   "source": [
    "# train the head of the network\n",
    "print(\"[INFO] training head...\")\n",
    "H = model.fit(\n",
    "    aug.flow(trainX, trainY, batch_size=BS),\n",
    "    steps_per_epoch=len(trainX) // BS,\n",
    "    validation_data=(testX, testY),\n",
    "    validation_steps=len(testX) // BS,\n",
    "    epochs=EPOCHS,\n",
    "    verbose = 2)"
   ]
  },
  {
   "cell_type": "code",
   "execution_count": 33,
   "metadata": {
    "colab": {
     "base_uri": "https://localhost:8080/"
    },
    "executionInfo": {
     "elapsed": 3111,
     "status": "ok",
     "timestamp": 1657521614069,
     "user": {
      "displayName": "Hari Ranjan Meena me18b108",
      "userId": "00972386903866042674"
     },
     "user_tz": -330
    },
    "id": "m-oeL2uX4AHg",
    "outputId": "63f91a0b-8690-4dbc-dc66-7fa8720f4b93"
   },
   "outputs": [
    {
     "name": "stdout",
     "output_type": "stream",
     "text": [
      "[INFO] evaluating network...\n"
     ]
    }
   ],
   "source": [
    "# make predictions on the testing set\n",
    "print(\"[INFO] evaluating network...\")\n",
    "predIdxs = model.predict(testX, batch_size=BS)"
   ]
  },
  {
   "cell_type": "code",
   "execution_count": 34,
   "metadata": {
    "executionInfo": {
     "elapsed": 394,
     "status": "ok",
     "timestamp": 1657521616488,
     "user": {
      "displayName": "Hari Ranjan Meena me18b108",
      "userId": "00972386903866042674"
     },
     "user_tz": -330
    },
    "id": "-34usH1G9opK"
   },
   "outputs": [],
   "source": [
    "predIdxs = np.argmax(predIdxs, axis=1)"
   ]
  },
  {
   "cell_type": "code",
   "execution_count": 35,
   "metadata": {
    "colab": {
     "base_uri": "https://localhost:8080/"
    },
    "executionInfo": {
     "elapsed": 630,
     "status": "ok",
     "timestamp": 1657521618701,
     "user": {
      "displayName": "Hari Ranjan Meena me18b108",
      "userId": "00972386903866042674"
     },
     "user_tz": -330
    },
    "id": "_rorcit39oju",
    "outputId": "9f2d0c20-aed2-4d65-8e1f-131f45546010"
   },
   "outputs": [
    {
     "name": "stdout",
     "output_type": "stream",
     "text": [
      "              precision    recall  f1-score   support\n",
      "\n",
      "   with_mask       0.96      1.00      0.98       433\n",
      "without_mask       0.99      0.95      0.97       386\n",
      "\n",
      "    accuracy                           0.98       819\n",
      "   macro avg       0.98      0.97      0.98       819\n",
      "weighted avg       0.98      0.98      0.98       819\n",
      "\n"
     ]
    }
   ],
   "source": [
    "# show a nicely formatted classification report\n",
    "print(classification_report(testY.argmax(axis=1), predIdxs,\n",
    "    target_names=lb.classes_))"
   ]
  },
  {
   "cell_type": "code",
   "execution_count": 37,
   "metadata": {
    "colab": {
     "base_uri": "https://localhost:8080/"
    },
    "executionInfo": {
     "elapsed": 1046,
     "status": "ok",
     "timestamp": 1657521665472,
     "user": {
      "displayName": "Hari Ranjan Meena me18b108",
      "userId": "00972386903866042674"
     },
     "user_tz": -330
    },
    "id": "i-JWuk4G4AEZ",
    "outputId": "0469b927-3f18-49f9-f9b2-faa855211064"
   },
   "outputs": [
    {
     "name": "stdout",
     "output_type": "stream",
     "text": [
      "[INFO] saving mask detector model...\n"
     ]
    }
   ],
   "source": [
    "# serialize the model to disk\n",
    "print(\"[INFO] saving mask detector model...\")\n",
    "model.save(\"/content/drive/MyDrive/Colab Notebooks/Mask detection/models/mobilenet_v2.model\", save_format=\"h5\")"
   ]
  },
  {
   "cell_type": "code",
   "execution_count": 38,
   "metadata": {
    "colab": {
     "base_uri": "https://localhost:8080/",
     "height": 279
    },
    "executionInfo": {
     "elapsed": 442,
     "status": "ok",
     "timestamp": 1657521673570,
     "user": {
      "displayName": "Hari Ranjan Meena me18b108",
      "userId": "00972386903866042674"
     },
     "user_tz": -330
    },
    "id": "7jb5dPNP-FC2",
    "outputId": "2e7f721a-f98d-45c4-8fc3-b2d3985bd852"
   },
   "outputs": [
    {
     "data": {
      "image/png": "[encoded data removed]",
      "text/plain": [
       "<Figure size 432x288 with 1 Axes>"
      ]
     },
     "metadata": {
      "needs_background": "light"
     },
     "output_type": "display_data"
    }
   ],
   "source": [
    "from matplotlib import pyplot as plt\n",
    "\n",
    "plt.plot(H.history['loss'],'r',label='training loss')\n",
    "plt.plot(H.history['val_loss'],label='validation loss')\n",
    "plt.xlabel('# epochs')\n",
    "plt.ylabel('loss')\n",
    "plt.legend()\n",
    "plt.show()"
   ]
  },
  {
   "cell_type": "code",
   "execution_count": 39,
   "metadata": {
    "colab": {
     "base_uri": "https://localhost:8080/",
     "height": 279
    },
    "executionInfo": {
     "elapsed": 993,
     "status": "ok",
     "timestamp": 1657521677465,
     "user": {
      "displayName": "Hari Ranjan Meena me18b108",
      "userId": "00972386903866042674"
     },
     "user_tz": -330
    },
    "id": "oRx1hbZo-GbK",
    "outputId": "05668886-06a2-49ec-fd96-1b104e3b5245"
   },
   "outputs": [
    {
     "data": {
      "image/png": "[encoded data removed]",
      "text/plain": [
       "<Figure size 432x288 with 1 Axes>"
      ]
     },
     "metadata": {
      "needs_background": "light"
     },
     "output_type": "display_data"
    }
   ],
   "source": [
    "plt.plot(H.history['accuracy'],'r',label='training accuracy')\n",
    "plt.plot(H.history['val_accuracy'],label='validation accuracy')\n",
    "plt.xlabel('# epochs')\n",
    "plt.ylabel('loss')\n",
    "plt.legend()\n",
    "plt.show()"
   ]
  },
  {
   "cell_type": "markdown",
   "metadata": {
    "id": "ai_PuTke4iEM"
   },
   "source": [
    "# VGG19"
   ]
  },
  {
   "cell_type": "code",
   "execution_count": 43,
   "metadata": {
    "executionInfo": {
     "elapsed": 378,
     "status": "ok",
     "timestamp": 1657521949337,
     "user": {
      "displayName": "Hari Ranjan Meena me18b108",
      "userId": "00972386903866042674"
     },
     "user_tz": -330
    },
    "id": "y-xuk-B9_82i"
   },
   "outputs": [],
   "source": [
    "from tensorflow.keras.applications.vgg19 import VGG19\n",
    "from tensorflow.keras.applications.vgg19 import preprocess_input"
   ]
  },
  {
   "cell_type": "code",
   "execution_count": 44,
   "metadata": {
    "colab": {
     "base_uri": "https://localhost:8080/"
    },
    "executionInfo": {
     "elapsed": 1008,
     "status": "ok",
     "timestamp": 1657521964988,
     "user": {
      "displayName": "Hari Ranjan Meena me18b108",
      "userId": "00972386903866042674"
     },
     "user_tz": -330
    },
    "id": "vAB1rNlg2_22",
    "outputId": "bcb47372-f012-4cb0-af30-10123de53aef"
   },
   "outputs": [
    {
     "name": "stdout",
     "output_type": "stream",
     "text": [
      "Downloading data from https://storage.googleapis.com/tensorflow/keras-applications/vgg19/vgg19_weights_tf_dim_ordering_tf_kernels_notop.h5\n",
      "80142336/80134624 [==============================] - 0s 0us/step\n",
      "80150528/80134624 [==============================] - 0s 0us/step\n"
     ]
    }
   ],
   "source": [
    "# load the MobileNetV2 network, ensuring the head FC layer sets are\n",
    "# left off\n",
    "baseModel = VGG19(weights=\"imagenet\", include_top=False, input_tensor=Input(shape=(224, 224, 3)))"
   ]
  },
  {
   "cell_type": "code",
   "execution_count": 45,
   "metadata": {
    "executionInfo": {
     "elapsed": 394,
     "status": "ok",
     "timestamp": 1657521974564,
     "user": {
      "displayName": "Hari Ranjan Meena me18b108",
      "userId": "00972386903866042674"
     },
     "user_tz": -330
    },
    "id": "jBBgIrhn2_0d"
   },
   "outputs": [],
   "source": [
    "# construct the head of the model that will be placed on top of the\n",
    "# the base model\n",
    "headModel = baseModel.output\n",
    "headModel = AveragePooling2D(pool_size=(7, 7))(headModel)\n",
    "headModel = Flatten(name=\"flatten\")(headModel)\n",
    "headModel = Dense(128, activation=\"relu\")(headModel)\n",
    "headModel = Dropout(0.5)(headModel)\n",
    "headModel = Dense(2, activation=\"softmax\")(headModel)"
   ]
  },
  {
   "cell_type": "code",
   "execution_count": 46,
   "metadata": {
    "executionInfo": {
     "elapsed": 368,
     "status": "ok",
     "timestamp": 1657521977115,
     "user": {
      "displayName": "Hari Ranjan Meena me18b108",
      "userId": "00972386903866042674"
     },
     "user_tz": -330
    },
    "id": "jHJJsgrs2_x1"
   },
   "outputs": [],
   "source": [
    "# place the head FC model on top of the base model (this will become\n",
    "# the actual model we will train)\n",
    "model = Model(inputs=baseModel.input, outputs=headModel)"
   ]
  },
  {
   "cell_type": "code",
   "execution_count": 47,
   "metadata": {
    "executionInfo": {
     "elapsed": 2,
     "status": "ok",
     "timestamp": 1657521978819,
     "user": {
      "displayName": "Hari Ranjan Meena me18b108",
      "userId": "00972386903866042674"
     },
     "user_tz": -330
    },
    "id": "S1KlbuuE2_vN"
   },
   "outputs": [],
   "source": [
    "# loop over all layers in the base model and freeze them so they will\n",
    "# *not* be updated during the first training process\n",
    "for layer in baseModel.layers:\n",
    "    layer.trainable = False"
   ]
  },
  {
   "cell_type": "code",
   "execution_count": 48,
   "metadata": {
    "colab": {
     "base_uri": "https://localhost:8080/"
    },
    "executionInfo": {
     "elapsed": 364,
     "status": "ok",
     "timestamp": 1657521983610,
     "user": {
      "displayName": "Hari Ranjan Meena me18b108",
      "userId": "00972386903866042674"
     },
     "user_tz": -330
    },
    "id": "x4xLPyJi2_sV",
    "outputId": "e0a3428c-8256-40a1-e28b-d332fe5eca5e"
   },
   "outputs": [
    {
     "name": "stdout",
     "output_type": "stream",
     "text": [
      "[INFO] compiling model...\n"
     ]
    }
   ],
   "source": [
    "# compile our model\n",
    "print(\"[INFO] compiling model...\")\n",
    "opt = Adam(learning_rate=INIT_LR, decay=INIT_LR / EPOCHS)\n",
    "model.compile(loss=\"binary_crossentropy\", optimizer=opt,\n",
    "    metrics=[\"accuracy\"])"
   ]
  },
  {
   "cell_type": "code",
   "execution_count": null,
   "metadata": {
    "id": "obkle5VBAnmH"
   },
   "outputs": [],
   "source": [
    "model.summary()"
   ]
  },
  {
   "cell_type": "code",
   "execution_count": 50,
   "metadata": {
    "colab": {
     "base_uri": "https://localhost:8080/"
    },
    "executionInfo": {
     "elapsed": 638725,
     "status": "ok",
     "timestamp": 1657522649661,
     "user": {
      "displayName": "Hari Ranjan Meena me18b108",
      "userId": "00972386903866042674"
     },
     "user_tz": -330
    },
    "id": "a2GSpWAK2VjR",
    "outputId": "9c911b73-8861-414f-814d-910e4e0183e6"
   },
   "outputs": [
    {
     "name": "stdout",
     "output_type": "stream",
     "text": [
      "[INFO] training head...\n",
      "Epoch 1/10\n",
      "102/102 - 59s - loss: 0.6838 - accuracy: 0.5999 - val_loss: 0.6024 - val_accuracy: 0.8559 - 59s/epoch - 578ms/step\n",
      "Epoch 2/10\n",
      "102/102 - 46s - loss: 0.6084 - accuracy: 0.7096 - val_loss: 0.5294 - val_accuracy: 0.9304 - 46s/epoch - 454ms/step\n",
      "Epoch 3/10\n",
      "102/102 - 46s - loss: 0.5350 - accuracy: 0.8258 - val_loss: 0.4570 - val_accuracy: 0.9341 - 46s/epoch - 451ms/step\n",
      "Epoch 4/10\n",
      "102/102 - 45s - loss: 0.4676 - accuracy: 0.8844 - val_loss: 0.3925 - val_accuracy: 0.9377 - 45s/epoch - 445ms/step\n",
      "Epoch 5/10\n",
      "102/102 - 45s - loss: 0.4181 - accuracy: 0.8961 - val_loss: 0.3381 - val_accuracy: 0.9438 - 45s/epoch - 445ms/step\n",
      "Epoch 6/10\n",
      "102/102 - 45s - loss: 0.3680 - accuracy: 0.9192 - val_loss: 0.2951 - val_accuracy: 0.9499 - 45s/epoch - 442ms/step\n",
      "Epoch 7/10\n",
      "102/102 - 45s - loss: 0.3290 - accuracy: 0.9245 - val_loss: 0.2643 - val_accuracy: 0.9585 - 45s/epoch - 444ms/step\n",
      "Epoch 8/10\n",
      "102/102 - 45s - loss: 0.3009 - accuracy: 0.9260 - val_loss: 0.2372 - val_accuracy: 0.9573 - 45s/epoch - 442ms/step\n",
      "Epoch 9/10\n",
      "102/102 - 46s - loss: 0.2769 - accuracy: 0.9309 - val_loss: 0.2160 - val_accuracy: 0.9621 - 46s/epoch - 446ms/step\n",
      "Epoch 10/10\n",
      "102/102 - 45s - loss: 0.2554 - accuracy: 0.9408 - val_loss: 0.2027 - val_accuracy: 0.9560 - 45s/epoch - 443ms/step\n"
     ]
    }
   ],
   "source": [
    "# train the head of the network\n",
    "print(\"[INFO] training head...\")\n",
    "H = model.fit(\n",
    "    aug.flow(trainX, trainY, batch_size=BS),\n",
    "    steps_per_epoch=len(trainX) // BS,\n",
    "    validation_data=(testX, testY),\n",
    "    validation_steps=len(testX) // BS,\n",
    "    epochs=EPOCHS,\n",
    "  verbose = 2)"
   ]
  },
  {
   "cell_type": "code",
   "execution_count": 51,
   "metadata": {
    "colab": {
     "base_uri": "https://localhost:8080/"
    },
    "executionInfo": {
     "elapsed": 7664,
     "status": "ok",
     "timestamp": 1657522680525,
     "user": {
      "displayName": "Hari Ranjan Meena me18b108",
      "userId": "00972386903866042674"
     },
     "user_tz": -330
    },
    "id": "yggiWdAe_wpM",
    "outputId": "db90fbf3-5a87-4f73-df62-d0e437644da6"
   },
   "outputs": [
    {
     "name": "stdout",
     "output_type": "stream",
     "text": [
      "[INFO] evaluating network...\n"
     ]
    }
   ],
   "source": [
    "# make predictions on the testing set\n",
    "print(\"[INFO] evaluating network...\")\n",
    "predIdxs = model.predict(testX, batch_size=BS)"
   ]
  },
  {
   "cell_type": "code",
   "execution_count": 52,
   "metadata": {
    "executionInfo": {
     "elapsed": 5,
     "status": "ok",
     "timestamp": 1657522682130,
     "user": {
      "displayName": "Hari Ranjan Meena me18b108",
      "userId": "00972386903866042674"
     },
     "user_tz": -330
    },
    "id": "3WJ96eb4_wnA"
   },
   "outputs": [],
   "source": [
    "predIdxs = np.argmax(predIdxs, axis=1)"
   ]
  },
  {
   "cell_type": "code",
   "execution_count": 53,
   "metadata": {
    "colab": {
     "base_uri": "https://localhost:8080/"
    },
    "executionInfo": {
     "elapsed": 375,
     "status": "ok",
     "timestamp": 1657522684856,
     "user": {
      "displayName": "Hari Ranjan Meena me18b108",
      "userId": "00972386903866042674"
     },
     "user_tz": -330
    },
    "id": "wawa2d9L_wkk",
    "outputId": "6eb25da1-10ca-4c70-cb35-e8cf120ae090"
   },
   "outputs": [
    {
     "name": "stdout",
     "output_type": "stream",
     "text": [
      "              precision    recall  f1-score   support\n",
      "\n",
      "   with_mask       0.97      0.95      0.96       433\n",
      "without_mask       0.94      0.97      0.95       386\n",
      "\n",
      "    accuracy                           0.96       819\n",
      "   macro avg       0.96      0.96      0.96       819\n",
      "weighted avg       0.96      0.96      0.96       819\n",
      "\n"
     ]
    }
   ],
   "source": [
    "# show a nicely formatted classification report\n",
    "print(classification_report(testY.argmax(axis=1), predIdxs,\n",
    "    target_names=lb.classes_))"
   ]
  },
  {
   "cell_type": "code",
   "execution_count": 54,
   "metadata": {
    "colab": {
     "base_uri": "https://localhost:8080/"
    },
    "executionInfo": {
     "elapsed": 1049,
     "status": "ok",
     "timestamp": 1657522700935,
     "user": {
      "displayName": "Hari Ranjan Meena me18b108",
      "userId": "00972386903866042674"
     },
     "user_tz": -330
    },
    "id": "cv6GQeJC_whj",
    "outputId": "4d1baff4-d9fb-4f85-c702-2a3a7de49f22"
   },
   "outputs": [
    {
     "name": "stdout",
     "output_type": "stream",
     "text": [
      "[INFO] saving mask detector model...\n"
     ]
    }
   ],
   "source": [
    "# serialize the model to disk\n",
    "print(\"[INFO] saving mask detector model...\")\n",
    "model.save(\"/content/drive/MyDrive/Colab Notebooks/Mask detection/models/VGG19.model\", save_format=\"h5\")"
   ]
  },
  {
   "cell_type": "code",
   "execution_count": null,
   "metadata": {
    "id": "nz-AMGfN_we0"
   },
   "outputs": [],
   "source": []
  },
  {
   "cell_type": "code",
   "execution_count": null,
   "metadata": {
    "id": "q8vFiuCDgN_i"
   },
   "outputs": [],
   "source": []
  },
  {
   "cell_type": "code",
   "execution_count": null,
   "metadata": {
    "id": "BnXPzdU-gN86"
   },
   "outputs": [],
   "source": []
  },
  {
   "cell_type": "code",
   "execution_count": null,
   "metadata": {
    "id": "sDZJ7rHPgNjX"
   },
   "outputs": [],
   "source": []
  }
 ],
 "metadata": {
  "accelerator": "GPU",
  "colab": {
   "authorship_tag": "ABX9TyPrIHViDqPmUwnMVwla6SCd",
   "collapsed_sections": [],
   "mount_file_id": "1VWbzr8noaBuHQCGJTqqK7hMTMeUZLndf",
   "name": "Face mask detection.ipynb",
   "provenance": []
  },
  "gpuClass": "standard",
  "kernelspec": {
   "display_name": "Python 3",
   "language": "python",
   "name": "python3"
  },
  "language_info": {
   "codemirror_mode": {
    "name": "ipython",
    "version": 3
   },
   "file_extension": ".py",
   "mimetype": "text/x-python",
   "name": "python",
   "nbconvert_exporter": "python",
   "pygments_lexer": "ipython3",
   "version": "3.8.8"
  }
 },
 "nbformat": 4,
 "nbformat_minor": 1
}
